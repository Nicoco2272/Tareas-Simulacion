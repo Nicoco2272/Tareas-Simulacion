{
 "cells": [
  {
   "cell_type": "markdown",
   "metadata": {},
   "source": [
    "# Tarea - Ajuste de curvas"
   ]
  },
  {
   "cell_type": "code",
   "execution_count": 63,
   "metadata": {},
   "outputs": [],
   "source": [
    "import numpy as np\n",
    "import pandas as pd\n",
    "import matplotlib.pyplot as plt"
   ]
  },
  {
   "cell_type": "markdown",
   "metadata": {},
   "source": [
    "---\n",
    "### Problema 1\n",
    "\n",
    "Los siguientes datos representan el costo en dólares de la electricidad según Western Electricity Coordinating Council desde el 2014 (y su pronóstico para el 2040)\n",
    "\n",
    "Tomado de:\n",
    "https://www.quandl.com/data/EIA/AEO_2016_REF_NO_CPP_PRCE_NA_COMM_NA_ELC_NA_WECCRKS_NCNTPKWH_A-Electricity-End-Use-Prices-Commercial-Western-Electricity-Coordinating-Council-Rockies-No-CPP-AEO2016"
   ]
  },
  {
   "cell_type": "code",
   "execution_count": 106,
   "metadata": {},
   "outputs": [],
   "source": [
    "import numpy as np\n",
    "# Datos extraidos de la página de quandl\n",
    "data = np.array([10.051101,  9.259127,  9.444813,  9.557723,  9.977324, 10.298326,\n",
    "       10.447217, 10.550506, 10.590784, 10.657418, 10.743085, 10.831965,\n",
    "       10.988435, 11.153055, 11.313326, 11.557165, 11.860136, 12.122511,\n",
    "       12.356448, 12.611391, 12.814569, 13.111372, 13.357134, 13.559012,\n",
    "       13.85861 , 14.135924, 14.436149])\n",
    "m = 27\n",
    "x = np.linspace(0,26,27)\n",
    "y = data"
   ]
  },
  {
   "cell_type": "markdown",
   "metadata": {},
   "source": [
    "1. Ajuste estos datos a polinomios de grado 1 hasta 3 (los datos en $x$ corresponden a los años de 2014 a 2040, sin embargo son valores muy grandes para elevarlos a una potencia, use una representación para estos años, por ejemplo $2014 \\rightarrow 0$ y $2040\\rightarrow 26$).\n",
    "\n",
    "2. Muestre las tres curvas ajustadas junto a los datos de los costos en un solo gráfico"
   ]
  },
  {
   "cell_type": "code",
   "execution_count": 107,
   "metadata": {},
   "outputs": [
    {
     "data": {
      "image/png": "[encoded data removed]",
      "text/plain": [
       "<Figure size 432x288 with 1 Axes>"
      ]
     },
     "metadata": {
      "needs_background": "light"
     },
     "output_type": "display_data"
    }
   ],
   "source": [
    "import matplotlib.pyplot as plt\n",
    "%matplotlib inline \n",
    "plt.figure()\n",
    "plt.scatter(x,y, s = 10)\n",
    "plt.grid()"
   ]
  },
  {
   "cell_type": "code",
   "execution_count": 108,
   "metadata": {},
   "outputs": [],
   "source": [
    "def funcion_de_costo (beta,X,y):\n",
    "    beta = np.reshape (beta, [2,-1]) #porque en este caso es un vector vertical con 4 elementos\n",
    "    pred = X @ beta\n",
    "    costo = (y-pred).T @ (y-pred)\n",
    "    return costo[0][0]"
   ]
  },
  {
   "cell_type": "code",
   "execution_count": 109,
   "metadata": {},
   "outputs": [],
   "source": [
    "ones = np.ones ([m, 1])\n",
    "x_1 = np.reshape (x, [m, -1])\n",
    "\n",
    "X1 = np.hstack ((ones, x_1))"
   ]
  },
  {
   "cell_type": "code",
   "execution_count": 110,
   "metadata": {},
   "outputs": [],
   "source": [
    "beta_inicial = np.random.rand(2)\n",
    "y = np.reshape(y, [m, -1])"
   ]
  },
  {
   "cell_type": "code",
   "execution_count": 111,
   "metadata": {},
   "outputs": [
    {
     "data": {
      "text/plain": [
       "512.3989166068438"
      ]
     },
     "execution_count": 111,
     "metadata": {},
     "output_type": "execute_result"
    }
   ],
   "source": [
    "funcion_de_costo(beta_inicial, X1, y)"
   ]
  },
  {
   "cell_type": "code",
   "execution_count": 112,
   "metadata": {},
   "outputs": [
    {
     "data": {
      "text/plain": [
       "      fun: 2.3704889518154317\n",
       " hess_inv: array([[ 0.07010582, -0.00396825],\n",
       "       [-0.00396825,  0.00030525]])\n",
       "      jac: array([2.98023224e-07, 1.22189522e-06])\n",
       "  message: 'Optimization terminated successfully.'\n",
       "     nfev: 18\n",
       "      nit: 3\n",
       "     njev: 6\n",
       "   status: 0\n",
       "  success: True\n",
       "        x: array([9.11567635, 0.18667055])"
      ]
     },
     "execution_count": 112,
     "metadata": {},
     "output_type": "execute_result"
    }
   ],
   "source": [
    "import scipy.optimize as opt \n",
    "sol = opt.minimize (funcion_de_costo,\n",
    "                   beta_inicial,\n",
    "                   args = (X1, y))\n",
    "sol "
   ]
  },
  {
   "cell_type": "code",
   "execution_count": 113,
   "metadata": {},
   "outputs": [],
   "source": [
    "def funcion_de_costo2 (beta,X,y):\n",
    "    beta = np.reshape (beta, [3,-1]) #porque en este caso es un vector vertical con 4 elementos\n",
    "    pred = X @ beta\n",
    "    costo = (y-pred).T @ (y-pred)\n",
    "    return costo[0][0]"
   ]
  },
  {
   "cell_type": "code",
   "execution_count": 114,
   "metadata": {},
   "outputs": [],
   "source": [
    "ones = np.ones ([m, 1])\n",
    "x_1 = np.reshape (x, [m, -1]) \n",
    "x_2 = np.reshape(x**2, [m, -1]) \n",
    "\n",
    "X2 = np.hstack ((ones, x_1, x_2))"
   ]
  },
  {
   "cell_type": "code",
   "execution_count": 115,
   "metadata": {},
   "outputs": [],
   "source": [
    "beta_inicial = np.random.rand(3)\n",
    "y = np.reshape(y, [m, -1])"
   ]
  },
  {
   "cell_type": "code",
   "execution_count": 116,
   "metadata": {},
   "outputs": [
    {
     "data": {
      "text/plain": [
       "990468.1230500739"
      ]
     },
     "execution_count": 116,
     "metadata": {},
     "output_type": "execute_result"
    }
   ],
   "source": [
    "funcion_de_costo2(beta_inicial, X2, y)"
   ]
  },
  {
   "cell_type": "code",
   "execution_count": 117,
   "metadata": {},
   "outputs": [
    {
     "data": {
      "text/plain": [
       "      fun: 0.8443845194033034\n",
       " hess_inv: array([[ 1.44233837e-01, -2.17582240e-02,  6.84208169e-04],\n",
       "       [-2.17582240e-02,  4.57472666e-03, -1.64207393e-04],\n",
       "       [ 6.84208169e-04, -1.64207393e-04,  6.31559947e-06]])\n",
       "      jac: array([7.45058060e-09, 1.56462193e-07, 3.21120024e-06])\n",
       "  message: 'Optimization terminated successfully.'\n",
       "     nfev: 52\n",
       "      nit: 9\n",
       "     njev: 13\n",
       "   status: 0\n",
       "  success: True\n",
       "        x: array([9.59128644e+00, 7.25241277e-02, 4.39024721e-03])"
      ]
     },
     "execution_count": 117,
     "metadata": {},
     "output_type": "execute_result"
    }
   ],
   "source": [
    "import scipy.optimize as opt \n",
    "sol = opt.minimize (funcion_de_costo2,\n",
    "                   beta_inicial,\n",
    "                   args = (X2, y))\n",
    "sol "
   ]
  },
  {
   "cell_type": "code",
   "execution_count": 118,
   "metadata": {},
   "outputs": [],
   "source": [
    "def funcion_de_costo3 (beta,X,y):\n",
    "    beta = np.reshape (beta, [4,-1]) #porque en este caso es un vector vertical con 4 elementos\n",
    "    pred = X @ beta\n",
    "    costo = (y-pred).T @ (y-pred)\n",
    "    return costo[0][0]"
   ]
  },
  {
   "cell_type": "code",
   "execution_count": 119,
   "metadata": {},
   "outputs": [],
   "source": [
    "ones = np.ones ([m, 1])\n",
    "x_1 = np.reshape (x, [m, -1]) \n",
    "x_2 = np.reshape(x**2, [m, -1]) \n",
    "x_3 = np.reshape (x**3,[m, -1]) \n",
    "\n",
    "X3 = np.hstack ( (ones, x_1, x_2, x_3) )\n"
   ]
  },
  {
   "cell_type": "code",
   "execution_count": 120,
   "metadata": {},
   "outputs": [],
   "source": [
    "beta_inicial = np.random.rand(4)\n",
    "y = np.reshape(y, [m, -1])"
   ]
  },
  {
   "cell_type": "code",
   "execution_count": 121,
   "metadata": {},
   "outputs": [
    {
     "data": {
      "text/plain": [
       "197188978.6833371"
      ]
     },
     "execution_count": 121,
     "metadata": {},
     "output_type": "execute_result"
    }
   ],
   "source": [
    "funcion_de_costo3(beta_inicial, X3, y)"
   ]
  },
  {
   "cell_type": "code",
   "execution_count": 122,
   "metadata": {},
   "outputs": [
    {
     "data": {
      "text/plain": [
       "      fun: 0.8404346757660173\n",
       " hess_inv: array([[ 2.27341691e-01, -6.40802999e-02,  4.82980093e-03,\n",
       "        -1.06284065e-04],\n",
       "       [-6.40802999e-02,  2.62007956e-02, -2.28393099e-03,\n",
       "         5.43567986e-05],\n",
       "       [ 4.82980093e-03, -2.28393099e-03,  2.14110044e-04,\n",
       "        -5.32875986e-06],\n",
       "       [-1.06284065e-04,  5.43567986e-05, -5.32875986e-06,\n",
       "         1.36654581e-07]])\n",
       "      jac: array([ 5.96046448e-08,  1.93715096e-07, -2.98023224e-08, -2.23517418e-08])\n",
       "  message: 'Optimization terminated successfully.'\n",
       "     nfev: 60\n",
       "      nit: 9\n",
       "     njev: 12\n",
       "   status: 0\n",
       "  success: True\n",
       "        x: array([9.56752299e+00, 8.46495847e-02, 3.20207426e-03, 3.04659734e-05])"
      ]
     },
     "execution_count": 122,
     "metadata": {},
     "output_type": "execute_result"
    }
   ],
   "source": [
    "import scipy.optimize as opt \n",
    "sol = opt.minimize (funcion_de_costo3,\n",
    "                   beta_inicial,\n",
    "                   args = (X3, y))\n",
    "sol "
   ]
  },
  {
   "cell_type": "code",
   "execution_count": 138,
   "metadata": {},
   "outputs": [
    {
     "data": {
      "image/png": "[encoded data removed]",
      "text/plain": [
       "<Figure size 432x288 with 1 Axes>"
      ]
     },
     "metadata": {
      "needs_background": "light"
     },
     "output_type": "display_data"
    }
   ],
   "source": [
    "y_real = np.sort(x)\n",
    "y_pred1 = 9.11567635 + 0.18667055*x\n",
    "y_pred2 = 9.59128644e+00 + 7.25241277e-02*x + 4.39024721e-03*(x**2)\n",
    "y_pred3 = 9.56752299e+00 + 8.46495847e-02*x + 3.20207426e-03*(x**2) + 3.04659734e-05*(x**3)\n",
    "\n",
    "plt.figure()\n",
    "plt.scatter(x,y)\n",
    "#plt.plot(x,y_real,)\n",
    "plt.plot(x,y_pred1, \"r\")\n",
    "plt.plot(x,y_pred2, \"b\", linewidth= 4)\n",
    "plt.plot (x,y_pred3, \"y\", linewidth =2)\n",
    "plt.grid()"
   ]
  },
  {
   "cell_type": "code",
   "execution_count": 130,
   "metadata": {},
   "outputs": [],
   "source": []
  },
  {
   "cell_type": "markdown",
   "metadata": {},
   "source": [
    "---"
   ]
  },
  {
   "cell_type": "markdown",
   "metadata": {},
   "source": [
    "___\n",
    "### Problema 2\n",
    "\n",
    "El archivo `population_data.csv` contiene información histórica anual de México relativa a la población, nacimientos y muertes desde el año 1950 hasta el año 2015. La primer columna corresponde a los años, la segunda a la población, la tercera a los nacimientos y la última a los decesos.\n",
    "\n",
    "Tomado de: https://en.wikipedia.org/wiki/Demographics_of_Mexico.\n",
    "\n",
    "Importe estos datos usando la función `read_csv` del paquete `pandas`\n",
    "\n",
    "1. Usando los años como variable independiente $x$ y la población como variable dependiente $y$, ajustar polinomios de grado 1 hasta grado 3.\n",
    "\n",
    "    * Mostrar en un solo gráfico los datos de población contra los años, y los polinomios ajustados.\n",
    "\n",
    "    * Graficar el error cuadrático acumulado contra el número de términos.\n",
    "\n",
    "2. Repetir el punto 1 usando los nacimientos como variable dependiente $y$. Grafique las curvas ajustadas junto con los datos de nacimientos. Vea en un gráfico el error acumulado."
   ]
  },
  {
   "cell_type": "markdown",
   "metadata": {},
   "source": [
    "---"
   ]
  },
  {
   "cell_type": "code",
   "execution_count": 141,
   "metadata": {},
   "outputs": [
    {
     "data": {
      "text/html": [
       "<div>\n",
       "<style scoped>\n",
       "    .dataframe tbody tr th:only-of-type {\n",
       "        vertical-align: middle;\n",
       "    }\n",
       "\n",
       "    .dataframe tbody tr th {\n",
       "        vertical-align: top;\n",
       "    }\n",
       "\n",
       "    .dataframe thead th {\n",
       "        text-align: right;\n",
       "    }\n",
       "</style>\n",
       "<table border=\"1\" class=\"dataframe\">\n",
       "  <thead>\n",
       "    <tr style=\"text-align: right;\">\n",
       "      <th></th>\n",
       "      <th>Year</th>\n",
       "      <th>Poblacion</th>\n",
       "      <th>Nacimientos</th>\n",
       "      <th>Decesos</th>\n",
       "    </tr>\n",
       "  </thead>\n",
       "  <tbody>\n",
       "    <tr>\n",
       "      <th>0</th>\n",
       "      <td>1950</td>\n",
       "      <td>28296</td>\n",
       "      <td>1174947</td>\n",
       "      <td>418430</td>\n",
       "    </tr>\n",
       "    <tr>\n",
       "      <th>1</th>\n",
       "      <td>1951</td>\n",
       "      <td>29110</td>\n",
       "      <td>1183788</td>\n",
       "      <td>458238</td>\n",
       "    </tr>\n",
       "    <tr>\n",
       "      <th>2</th>\n",
       "      <td>1952</td>\n",
       "      <td>29980</td>\n",
       "      <td>1195209</td>\n",
       "      <td>408823</td>\n",
       "    </tr>\n",
       "    <tr>\n",
       "      <th>3</th>\n",
       "      <td>1953</td>\n",
       "      <td>30904</td>\n",
       "      <td>1261775</td>\n",
       "      <td>446127</td>\n",
       "    </tr>\n",
       "    <tr>\n",
       "      <th>4</th>\n",
       "      <td>1954</td>\n",
       "      <td>31880</td>\n",
       "      <td>1339837</td>\n",
       "      <td>378752</td>\n",
       "    </tr>\n",
       "    <tr>\n",
       "      <th>...</th>\n",
       "      <td>...</td>\n",
       "      <td>...</td>\n",
       "      <td>...</td>\n",
       "      <td>...</td>\n",
       "    </tr>\n",
       "    <tr>\n",
       "      <th>61</th>\n",
       "      <td>2011</td>\n",
       "      <td>115683</td>\n",
       "      <td>2586287</td>\n",
       "      <td>590693</td>\n",
       "    </tr>\n",
       "    <tr>\n",
       "      <th>62</th>\n",
       "      <td>2012</td>\n",
       "      <td>117054</td>\n",
       "      <td>2498880</td>\n",
       "      <td>602354</td>\n",
       "    </tr>\n",
       "    <tr>\n",
       "      <th>63</th>\n",
       "      <td>2013</td>\n",
       "      <td>118395</td>\n",
       "      <td>2478889</td>\n",
       "      <td>623599</td>\n",
       "    </tr>\n",
       "    <tr>\n",
       "      <th>64</th>\n",
       "      <td>2014</td>\n",
       "      <td>119713</td>\n",
       "      <td>2463420</td>\n",
       "      <td>633641</td>\n",
       "    </tr>\n",
       "    <tr>\n",
       "      <th>65</th>\n",
       "      <td>2015</td>\n",
       "      <td>121005</td>\n",
       "      <td>2353596</td>\n",
       "      <td>655694</td>\n",
       "    </tr>\n",
       "  </tbody>\n",
       "</table>\n",
       "<p>66 rows × 4 columns</p>\n",
       "</div>"
      ],
      "text/plain": [
       "    Year  Poblacion  Nacimientos  Decesos\n",
       "0   1950      28296      1174947   418430\n",
       "1   1951      29110      1183788   458238\n",
       "2   1952      29980      1195209   408823\n",
       "3   1953      30904      1261775   446127\n",
       "4   1954      31880      1339837   378752\n",
       "..   ...        ...          ...      ...\n",
       "61  2011     115683      2586287   590693\n",
       "62  2012     117054      2498880   602354\n",
       "63  2013     118395      2478889   623599\n",
       "64  2014     119713      2463420   633641\n",
       "65  2015     121005      2353596   655694\n",
       "\n",
       "[66 rows x 4 columns]"
      ]
     },
     "execution_count": 141,
     "metadata": {},
     "output_type": "execute_result"
    }
   ],
   "source": [
    "datos = pd.read_csv(\"population_data.csv\")\n",
    "datos"
   ]
  },
  {
   "cell_type": "code",
   "execution_count": 232,
   "metadata": {},
   "outputs": [],
   "source": [
    "m = 66\n",
    "x = np.linspace(0,65,66)"
   ]
  },
  {
   "cell_type": "code",
   "execution_count": 233,
   "metadata": {},
   "outputs": [],
   "source": [
    "y = datos.Poblacion.tolist()"
   ]
  },
  {
   "cell_type": "code",
   "execution_count": 234,
   "metadata": {},
   "outputs": [
    {
     "data": {
      "text/plain": [
       "      fun: 212137169.5442833\n",
       " hess_inv: array([[ 5.29943948e-03, -1.21689191e-04],\n",
       "       [-1.21689191e-04,  8.14627334e-06]])\n",
       "      jac: array([0., 0.])\n",
       "  message: 'Optimization terminated successfully.'\n",
       "     nfev: 51\n",
       "      nit: 9\n",
       "     njev: 17\n",
       "   status: 0\n",
       "  success: True\n",
       "        x: array([24138.01530912,  1543.97341775])"
      ]
     },
     "execution_count": 234,
     "metadata": {},
     "output_type": "execute_result"
    }
   ],
   "source": [
    "def funcion_de_costo(beta, X, y):\n",
    "    beta = np.reshape(beta, [2, -1])\n",
    "    pred = X @ beta\n",
    "    costo = (y-pred).T @ (y-pred)\n",
    "    return costo[0][0]\n",
    "\n",
    "ones = np.ones([m, 1]) \n",
    "x_1 = np.reshape(x, [m, -1]) \n",
    "\n",
    "X = np.hstack((ones, x_1))\n",
    "\n",
    "beta_inicial = np.random.rand(2)\n",
    "y = np.reshape(y, [m,-1])\n",
    "\n",
    "funcion_de_costo(beta_inicial, X, y)\n",
    "\n",
    "import scipy.optimize as opt\n",
    "sol = opt.minimize(funcion_de_costo,\n",
    "                beta_inicial,\n",
    "                args=(X,y))\n",
    "sol"
   ]
  },
  {
   "cell_type": "code",
   "execution_count": 235,
   "metadata": {},
   "outputs": [
    {
     "data": {
      "text/plain": [
       "421580541589.47534"
      ]
     },
     "execution_count": 235,
     "metadata": {},
     "output_type": "execute_result"
    }
   ],
   "source": [
    "funcion_de_costo(beta_inicial, X, y)"
   ]
  },
  {
   "cell_type": "code",
   "execution_count": 236,
   "metadata": {},
   "outputs": [
    {
     "data": {
      "text/plain": [
       "      fun: 210941621.45620525\n",
       " hess_inv: array([[ 7.62205433e-03, -9.67521907e-10, -4.88308427e-10],\n",
       "       [-9.67521907e-10,  1.42108547e-12,  7.10542736e-13],\n",
       "       [-4.88308427e-10,  7.10542736e-13,  3.58768570e-13]])\n",
       "      jac: array([ 0., -2., -8.])\n",
       "  message: 'Desired error not necessarily achieved due to precision loss.'\n",
       "     nfev: 224\n",
       "      nit: 10\n",
       "     njev: 53\n",
       "   status: 2\n",
       "  success: False\n",
       "        x: array([2.44255547e+04, 1.51701529e+03, 4.14746777e-01])"
      ]
     },
     "execution_count": 236,
     "metadata": {},
     "output_type": "execute_result"
    }
   ],
   "source": [
    "def funcion_de_costo(beta, X, y):\n",
    "    beta = np.reshape(beta, [3, -1])\n",
    "    pred = X @ beta\n",
    "    costo = (y-pred).T @ (y-pred)\n",
    "    return costo[0][0]\n",
    "\n",
    "ones = np.ones([m, 1]) \n",
    "x_1 = np.reshape(x, [m, -1]) \n",
    "x_2 = np.reshape(x**2, [m,-1])\n",
    "\n",
    "X = np.hstack((ones, x_1, x_2))\n",
    "\n",
    "beta_inicial = np.random.rand(3)\n",
    "y = np.reshape(y, [m,-1])\n",
    "\n",
    "funcion_de_costo(beta_inicial, X, y)\n",
    "\n",
    "import scipy.optimize as opt\n",
    "sol = opt.minimize(funcion_de_costo,\n",
    "                beta_inicial,\n",
    "                args=(X,y))\n",
    "sol"
   ]
  },
  {
   "cell_type": "code",
   "execution_count": 237,
   "metadata": {},
   "outputs": [
    {
     "data": {
      "text/plain": [
       "409896465066.10315"
      ]
     },
     "execution_count": 237,
     "metadata": {},
     "output_type": "execute_result"
    }
   ],
   "source": [
    "funcion_de_costo(beta_inicial, X, y)"
   ]
  },
  {
   "cell_type": "code",
   "execution_count": 238,
   "metadata": {},
   "outputs": [
    {
     "data": {
      "text/plain": [
       "      fun: 25240442.638309337\n",
       " hess_inv: array([[ 2.33362006e-02, -2.82184309e-03,  8.84210346e-05,\n",
       "        -7.99531529e-07],\n",
       "       [-2.82184309e-03,  8.37577263e-04, -3.34284935e-05,\n",
       "         3.39688344e-07],\n",
       "       [ 8.84210346e-05, -3.34284935e-05,  1.45123159e-06,\n",
       "        -1.54918382e-08],\n",
       "       [-7.99531529e-07,  3.39688344e-07, -1.54918382e-08,\n",
       "         1.70752646e-10]])\n",
       "      jac: array([  0. ,   0. ,  -0.5, -22.5])\n",
       "  message: 'Desired error not necessarily achieved due to precision loss.'\n",
       "     nfev: 232\n",
       "      nit: 9\n",
       "     njev: 44\n",
       "   status: 2\n",
       "  success: False\n",
       "        x: array([ 2.84777442e+04,  7.39080594e+02,  3.05648285e+01, -3.09231480e-01])"
      ]
     },
     "execution_count": 238,
     "metadata": {},
     "output_type": "execute_result"
    }
   ],
   "source": [
    "def funcion_de_costo(beta, X, y):\n",
    "    beta = np.reshape(beta, [4, -1])\n",
    "    pred = X @ beta\n",
    "    costo = (y-pred).T @ (y-pred)\n",
    "    return costo[0][0]\n",
    "\n",
    "ones = np.ones([m, 1]) \n",
    "x_1 = np.reshape(x, [m, -1]) \n",
    "x_2 = np.reshape(x**2, [m,-1])\n",
    "x_3 = np.reshape(x**3, [m,-1])\n",
    "\n",
    "X = np.hstack((ones, x_1, x_2, x_3))\n",
    "\n",
    "beta_inicial = np.random.rand(4)\n",
    "y = np.reshape(y, [m,-1])\n",
    "\n",
    "funcion_de_costo(beta_inicial, X, y)\n",
    "\n",
    "import scipy.optimize as opt\n",
    "sol = opt.minimize(funcion_de_costo3,\n",
    "                beta_inicial,\n",
    "                args=(X3,y))\n",
    "sol"
   ]
  },
  {
   "cell_type": "code",
   "execution_count": 239,
   "metadata": {},
   "outputs": [
    {
     "data": {
      "text/plain": [
       "278817573300.22815"
      ]
     },
     "execution_count": 239,
     "metadata": {},
     "output_type": "execute_result"
    }
   ],
   "source": [
    "funcion_de_costo(beta_inicial, X, y)"
   ]
  },
  {
   "cell_type": "code",
   "execution_count": 240,
   "metadata": {},
   "outputs": [
    {
     "data": {
      "image/png": "[encoded data removed]",
      "text/plain": [
       "<Figure size 432x288 with 1 Axes>"
      ]
     },
     "metadata": {
      "needs_background": "light"
     },
     "output_type": "display_data"
    }
   ],
   "source": [
    "y_pred1 = 24138.03031173 + 1543.97311837*x\n",
    "y_pred2=  2.44255187e+04 + 1.51701752e+03*x + 4.14718118e-01*(x**2)\n",
    "y_pred3 = 2.41380192e+04 + 9.78955333e-0*x + 1.54397344e+03*(x**2) + 8.93011505e-01*(x**3)\n",
    "\n",
    "import matplotlib.pyplot as plt\n",
    "%matplotlib inline\n",
    "plt.figure()\n",
    "plt.plot(x,y, \"r\")\n",
    "plt.plot(x, y_pred1, \"g\")\n",
    "plt.plot(x, y_pred2, \"b\")\n",
    "plt.plot(x, y_pred3, \"y\")\n",
    "plt.grid()"
   ]
  },
  {
   "cell_type": "markdown",
   "metadata": {},
   "source": [
    "Profe, no se cual es mi error, pero la grafica no toma los valores de \"y\""
   ]
  },
  {
   "cell_type": "code",
   "execution_count": 241,
   "metadata": {},
   "outputs": [
    {
     "data": {
      "text/plain": [
       "<matplotlib.legend.Legend at 0x1dc99d65b50>"
      ]
     },
     "execution_count": 241,
     "metadata": {},
     "output_type": "execute_result"
    },
    {
     "data": {
      "image/png": "[encoded data removed]",
      "text/plain": [
       "<Figure size 432x288 with 1 Axes>"
      ]
     },
     "metadata": {
      "needs_background": "light"
     },
     "output_type": "display_data"
    }
   ],
   "source": [
    "plt.figure()\n",
    "plt.scatter(1, 421485747627.16766 , label = \"Función Lineal\")\n",
    "plt.scatter(2, 417238393682.4238 , label = \"Función Cuadrática\")\n",
    "plt.scatter(3, 25240442.639243018 , label = \"Función Cúbica\")\n",
    "plt.grid()\n",
    "plt.legend(loc = \"best\")"
   ]
  },
  {
   "cell_type": "code",
   "execution_count": 242,
   "metadata": {},
   "outputs": [],
   "source": [
    "y = datos.Nacimientos.tolist()"
   ]
  },
  {
   "cell_type": "code",
   "execution_count": 243,
   "metadata": {},
   "outputs": [
    {
     "data": {
      "text/plain": [
       "      fun: 4737915058937.528\n",
       " hess_inv: array([[ 1.46596939e-02, -3.42946050e-04],\n",
       "       [-3.42946050e-04,  1.33335184e-05]])\n",
       "      jac: array([0., 0.])\n",
       "  message: 'Optimization terminated successfully.'\n",
       "     nfev: 102\n",
       "      nit: 7\n",
       "     njev: 34\n",
       "   status: 0\n",
       "  success: True\n",
       "        x: array([1562585.28397796,   21985.53178945])"
      ]
     },
     "execution_count": 243,
     "metadata": {},
     "output_type": "execute_result"
    }
   ],
   "source": [
    "def funcion_de_costo(beta, X, y):\n",
    "    beta = np.reshape(beta, [2, -1])\n",
    "    pred = X @ beta\n",
    "    costo = (y-pred).T @ (y-pred)\n",
    "    return costo[0][0]\n",
    "\n",
    "ones = np.ones([m, 1]) # m renglones y 1 columna\n",
    "x_1 = np.reshape(x, [m, -1]) #columna de factor x con m renglones y 1 columna\n",
    "\n",
    "X = np.hstack((ones, x_1))\n",
    "\n",
    "beta_inicial = np.random.rand(2)\n",
    "y = np.reshape(y, [m,-1])\n",
    "\n",
    "funcion_de_costo(beta_inicial, X, y)\n",
    "\n",
    "import scipy.optimize as opt\n",
    "sol = opt.minimize(funcion_de_costo,\n",
    "                beta_inicial,\n",
    "                args=(X,y))\n",
    "sol"
   ]
  },
  {
   "cell_type": "code",
   "execution_count": 244,
   "metadata": {},
   "outputs": [
    {
     "data": {
      "text/plain": [
       "358558561474714.0"
      ]
     },
     "execution_count": 244,
     "metadata": {},
     "output_type": "execute_result"
    }
   ],
   "source": [
    "funcion_de_costo(beta_inicial, X, y)"
   ]
  },
  {
   "cell_type": "code",
   "execution_count": 245,
   "metadata": {},
   "outputs": [
    {
     "data": {
      "text/plain": [
       "      fun: 492921050437.7407\n",
       " hess_inv: array([[ 1.21691779e-01, -8.66503211e-03,  1.18080896e-04],\n",
       "       [-8.66503211e-03,  7.16630622e-04, -1.03095676e-05],\n",
       "       [ 1.18080896e-04, -1.03095676e-05,  1.52943689e-07]])\n",
       "      jac: array([   0.,    0., 8192.])\n",
       "  message: 'Desired error not necessarily achieved due to precision loss.'\n",
       "     nfev: 214\n",
       "      nit: 8\n",
       "     njev: 51\n",
       "   status: 2\n",
       "  success: False\n",
       "        x: array([ 1.02111323e+06,  7.27772066e+04, -7.81550358e+02])"
      ]
     },
     "execution_count": 245,
     "metadata": {},
     "output_type": "execute_result"
    }
   ],
   "source": [
    "def funcion_de_costo(beta, X, y):\n",
    "    beta = np.reshape(beta, [3, -1])\n",
    "    pred = X @ beta\n",
    "    costo = (y-pred).T @ (y-pred)\n",
    "    return costo[0][0]\n",
    "\n",
    "ones = np.ones([m, 1]) # m renglones y 1 columna\n",
    "x_1 = np.reshape(x, [m, -1]) #columna de factor x con m renglones y 1 columna\n",
    "x_2 = np.reshape(x**2, [m,-1])\n",
    "\n",
    "X = np.hstack((ones, x_1, x_2))\n",
    "\n",
    "beta_inicial = np.random.rand(3)\n",
    "y = np.reshape(y, [m,-1])\n",
    "\n",
    "funcion_de_costo(beta_inicial, X, y)\n",
    "\n",
    "import scipy.optimize as opt\n",
    "sol = opt.minimize(funcion_de_costo,\n",
    "                beta_inicial,\n",
    "                args=(X,y))\n",
    "sol"
   ]
  },
  {
   "cell_type": "code",
   "execution_count": 246,
   "metadata": {},
   "outputs": [
    {
     "data": {
      "text/plain": [
       "358460870012463.0"
      ]
     },
     "execution_count": 246,
     "metadata": {},
     "output_type": "execute_result"
    }
   ],
   "source": [
    "funcion_de_costo(beta_inicial, X, y)"
   ]
  },
  {
   "cell_type": "code",
   "execution_count": 247,
   "metadata": {},
   "outputs": [
    {
     "data": {
      "text/plain": [
       "      fun: 441782320317.2412\n",
       " hess_inv: array([[ 1.99031051e-01, -1.03811925e-01,  4.31893129e-03,\n",
       "        -4.50626350e-05],\n",
       "       [-1.03811925e-01,  5.41469862e-02, -2.25277622e-03,\n",
       "         2.35054722e-05],\n",
       "       [ 4.31893129e-03, -2.25277622e-03,  9.38002103e-05,\n",
       "        -9.79268820e-07],\n",
       "       [-4.50626350e-05,  2.35054722e-05, -9.79268820e-07,\n",
       "         1.02282576e-08]])\n",
       "      jac: array([4.0960000e+03, 2.0480000e+04, 8.2739200e+05, 4.3761664e+07])\n",
       "  message: 'Desired error not necessarily achieved due to precision loss.'\n",
       "     nfev: 155\n",
       "      nit: 11\n",
       "     njev: 31\n",
       "   status: 2\n",
       "  success: False\n",
       "        x: array([ 1.08835883e+06,  5.98685972e+04, -2.81248062e+02, -5.13138562e+00])"
      ]
     },
     "execution_count": 247,
     "metadata": {},
     "output_type": "execute_result"
    }
   ],
   "source": [
    "def funcion_de_costo(beta, X, y):\n",
    "    beta = np.reshape(beta, [4, -1])\n",
    "    pred = X @ beta\n",
    "    costo = (y-pred).T @ (y-pred)\n",
    "    return costo[0][0]\n",
    "\n",
    "ones = np.ones([m, 1]) # m renglones y 1 columna\n",
    "x_1 = np.reshape(x, [m, -1]) #columna de factor x con m renglones y 1 columna\n",
    "x_2 = np.reshape(x**2, [m,-1])\n",
    "x_3 = np.reshape(x**3, [m,-1])\n",
    "\n",
    "X = np.hstack((ones, x_1, x_2, x_3))\n",
    "\n",
    "beta_inicial = np.random.rand(4)\n",
    "y = np.reshape(y, [m,-1])\n",
    "\n",
    "funcion_de_costo(beta_inicial, X, y)\n",
    "\n",
    "import scipy.optimize as opt\n",
    "sol = opt.minimize(funcion_de_costo,\n",
    "                beta_inicial,\n",
    "                args=(X,y))\n",
    "sol"
   ]
  },
  {
   "cell_type": "code",
   "execution_count": 248,
   "metadata": {},
   "outputs": [
    {
     "data": {
      "text/plain": [
       "337805965849061.25"
      ]
     },
     "execution_count": 248,
     "metadata": {},
     "output_type": "execute_result"
    }
   ],
   "source": [
    "funcion_de_costo(beta_inicial, X, y)"
   ]
  },
  {
   "cell_type": "code",
   "execution_count": 249,
   "metadata": {},
   "outputs": [
    {
     "data": {
      "image/png": "[encoded data removed]",
      "text/plain": [
       "<Figure size 432x288 with 1 Axes>"
      ]
     },
     "metadata": {
      "needs_background": "light"
     },
     "output_type": "display_data"
    }
   ],
   "source": [
    "y_pred1 =1562525.06555266 + 21985.88731801*x\n",
    "y_pred2 = 1.02119737e+06 + 7.27725417e+04*x - 7.81494091e+0*(x**2)\n",
    "y_pred3 = 1.08842031e+06 + 5.98604229e+04*x - 2.80985006e+02*(x**2) - 5.13380742e+00*(x**3)\n",
    "\n",
    "import matplotlib.pyplot as plt\n",
    "%matplotlib inline\n",
    "plt.figure()\n",
    "\n",
    "plt.plot(x, y, \"r\")\n",
    "plt.plot(x, y_pred1, \"g\")\n",
    "plt.plot(x, y_pred2, \"b\")\n",
    "plt.plot(x, y_pred1, \"y\")\n",
    "\n",
    "plt.grid()"
   ]
  },
  {
   "cell_type": "code",
   "execution_count": 250,
   "metadata": {},
   "outputs": [
    {
     "data": {
      "text/plain": [
       "<matplotlib.legend.Legend at 0x1dc99e5d070>"
      ]
     },
     "execution_count": 250,
     "metadata": {},
     "output_type": "execute_result"
    },
    {
     "data": {
      "image/png": "[encoded data removed]",
      "text/plain": [
       "<Figure size 432x288 with 1 Axes>"
      ]
     },
     "metadata": {
      "needs_background": "light"
     },
     "output_type": "display_data"
    }
   ],
   "source": [
    "plt.figure()\n",
    "plt.scatter(1, 358558561474714.0 , label = \"Función Lineal\")\n",
    "plt.scatter(2, 337805965849061.25 , label = \"Función Cuadrática\")\n",
    "plt.scatter(3, 337805965849061.25 , label = \"Función Cúbica\")\n",
    "plt.grid()\n",
    "plt.legend(loc = \"best\")\n"
   ]
  },
  {
   "cell_type": "code",
   "execution_count": null,
   "metadata": {},
   "outputs": [],
   "source": []
  }
 ],
 "metadata": {
  "kernelspec": {
   "display_name": "Python 3 (ipykernel)",
   "language": "python",
   "name": "python3"
  },
  "language_info": {
   "codemirror_mode": {
    "name": "ipython",
    "version": 3
   },
   "file_extension": ".py",
   "mimetype": "text/x-python",
   "name": "python",
   "nbconvert_exporter": "python",
   "pygments_lexer": "ipython3",
   "version": "3.9.12"
  }
 },
 "nbformat": 4,
 "nbformat_minor": 2
}
